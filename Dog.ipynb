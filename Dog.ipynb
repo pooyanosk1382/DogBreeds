{
 "cells": [
  {
   "cell_type": "code",
   "execution_count": 3,
   "outputs": [],
   "source": [
    "import numpy as np\n",
    "import pandas as pd\n",
    "import matplotlib.pyplot as plt\n",
    "plt.style.use('Solarize_Light2')\n",
    "import seaborn as sns\n",
    "import warnings\n",
    "warnings.filterwarnings('ignore')"
   ],
   "metadata": {
    "collapsed": false,
    "pycharm": {
     "name": "#%%\n"
    }
   }
  },
  {
   "cell_type": "code",
   "execution_count": 4,
   "outputs": [],
   "source": [
    "df = pd.read_csv('dog.csv')"
   ],
   "metadata": {
    "collapsed": false,
    "pycharm": {
     "name": "#%%\n"
    }
   }
  },
  {
   "cell_type": "code",
   "execution_count": 5,
   "outputs": [
    {
     "data": {
      "text/plain": "     Year                                Club  Position  \\\n0    2006                      UK Kennel Club         1   \n1    2006                      UK Kennel Club         2   \n2    2006                      UK Kennel Club         3   \n3    2006                      UK Kennel Club         4   \n4    2006                      UK Kennel Club         5   \n..    ...                                 ...       ...   \n125  2019  Club registration figures for 2024         6   \n126  2019  Club registration figures for 2025         7   \n127  2019  Club registration figures for 2026         8   \n128  2019  Club registration figures for 2027         9   \n129  2019  Club registration figures for 2028        10   \n\n                          Breed Registrations  \n0            Labrador Retriever          45.7  \n1        English Cocker Spaniel        20.459  \n2      English Springer Spaniel        15.133  \n3               German Shepherd        12.857  \n4    Staffordshire Bull Terrier        12.729  \n..                          ...           ...  \n125                     Poodles             -  \n126                     Beagles             -  \n127                 Rottweilers             -  \n128  German Shorthaired Pointer             -  \n129        Pembroke Welsh Corgi             -  \n\n[130 rows x 5 columns]",
      "text/html": "<div>\n<style scoped>\n    .dataframe tbody tr th:only-of-type {\n        vertical-align: middle;\n    }\n\n    .dataframe tbody tr th {\n        vertical-align: top;\n    }\n\n    .dataframe thead th {\n        text-align: right;\n    }\n</style>\n<table border=\"1\" class=\"dataframe\">\n  <thead>\n    <tr style=\"text-align: right;\">\n      <th></th>\n      <th>Year</th>\n      <th>Club</th>\n      <th>Position</th>\n      <th>Breed</th>\n      <th>Registrations</th>\n    </tr>\n  </thead>\n  <tbody>\n    <tr>\n      <th>0</th>\n      <td>2006</td>\n      <td>UK Kennel Club</td>\n      <td>1</td>\n      <td>Labrador Retriever</td>\n      <td>45.7</td>\n    </tr>\n    <tr>\n      <th>1</th>\n      <td>2006</td>\n      <td>UK Kennel Club</td>\n      <td>2</td>\n      <td>English Cocker Spaniel</td>\n      <td>20.459</td>\n    </tr>\n    <tr>\n      <th>2</th>\n      <td>2006</td>\n      <td>UK Kennel Club</td>\n      <td>3</td>\n      <td>English Springer Spaniel</td>\n      <td>15.133</td>\n    </tr>\n    <tr>\n      <th>3</th>\n      <td>2006</td>\n      <td>UK Kennel Club</td>\n      <td>4</td>\n      <td>German Shepherd</td>\n      <td>12.857</td>\n    </tr>\n    <tr>\n      <th>4</th>\n      <td>2006</td>\n      <td>UK Kennel Club</td>\n      <td>5</td>\n      <td>Staffordshire Bull Terrier</td>\n      <td>12.729</td>\n    </tr>\n    <tr>\n      <th>...</th>\n      <td>...</td>\n      <td>...</td>\n      <td>...</td>\n      <td>...</td>\n      <td>...</td>\n    </tr>\n    <tr>\n      <th>125</th>\n      <td>2019</td>\n      <td>Club registration figures for 2024</td>\n      <td>6</td>\n      <td>Poodles</td>\n      <td>-</td>\n    </tr>\n    <tr>\n      <th>126</th>\n      <td>2019</td>\n      <td>Club registration figures for 2025</td>\n      <td>7</td>\n      <td>Beagles</td>\n      <td>-</td>\n    </tr>\n    <tr>\n      <th>127</th>\n      <td>2019</td>\n      <td>Club registration figures for 2026</td>\n      <td>8</td>\n      <td>Rottweilers</td>\n      <td>-</td>\n    </tr>\n    <tr>\n      <th>128</th>\n      <td>2019</td>\n      <td>Club registration figures for 2027</td>\n      <td>9</td>\n      <td>German Shorthaired Pointer</td>\n      <td>-</td>\n    </tr>\n    <tr>\n      <th>129</th>\n      <td>2019</td>\n      <td>Club registration figures for 2028</td>\n      <td>10</td>\n      <td>Pembroke Welsh Corgi</td>\n      <td>-</td>\n    </tr>\n  </tbody>\n</table>\n<p>130 rows × 5 columns</p>\n</div>"
     },
     "execution_count": 5,
     "metadata": {},
     "output_type": "execute_result"
    }
   ],
   "source": [
    "df"
   ],
   "metadata": {
    "collapsed": false,
    "pycharm": {
     "name": "#%%\n"
    }
   }
  },
  {
   "cell_type": "code",
   "execution_count": 6,
   "outputs": [
    {
     "name": "stdout",
     "output_type": "stream",
     "text": [
      "<class 'pandas.core.frame.DataFrame'>\n",
      "RangeIndex: 130 entries, 0 to 129\n",
      "Data columns (total 5 columns):\n",
      " #   Column         Non-Null Count  Dtype \n",
      "---  ------         --------------  ----- \n",
      " 0   Year           130 non-null    int64 \n",
      " 1   Club           130 non-null    object\n",
      " 2   Position       130 non-null    int64 \n",
      " 3   Breed          130 non-null    object\n",
      " 4   Registrations  130 non-null    object\n",
      "dtypes: int64(2), object(3)\n",
      "memory usage: 5.2+ KB\n"
     ]
    }
   ],
   "source": [
    "df.info()"
   ],
   "metadata": {
    "collapsed": false,
    "pycharm": {
     "name": "#%%\n"
    }
   }
  },
  {
   "cell_type": "code",
   "execution_count": null,
   "outputs": [],
   "source": [],
   "metadata": {
    "collapsed": false,
    "pycharm": {
     "name": "#%%\n"
    }
   }
  }
 ],
 "metadata": {
  "kernelspec": {
   "display_name": "Python 3",
   "language": "python",
   "name": "python3"
  },
  "language_info": {
   "codemirror_mode": {
    "name": "ipython",
    "version": 2
   },
   "file_extension": ".py",
   "mimetype": "text/x-python",
   "name": "python",
   "nbconvert_exporter": "python",
   "pygments_lexer": "ipython2",
   "version": "2.7.6"
  }
 },
 "nbformat": 4,
 "nbformat_minor": 0
}